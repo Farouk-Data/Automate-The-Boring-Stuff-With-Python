{
  "nbformat": 4,
  "nbformat_minor": 0,
  "metadata": {
    "colab": {
      "name": "Automate_boring_Stuff_p1.ipynb",
      "provenance": [],
      "collapsed_sections": [],
      "authorship_tag": "ABX9TyPiU3UONjScEyE7LO5kJmwY",
      "include_colab_link": true
    },
    "kernelspec": {
      "name": "python3",
      "display_name": "Python 3"
    },
    "language_info": {
      "name": "python"
    }
  },
  "cells": [
    {
      "cell_type": "markdown",
      "metadata": {
        "id": "view-in-github",
        "colab_type": "text"
      },
      "source": [
        "<a href=\"https://colab.research.google.com/github/Farouk-Data/Automate-The-Boring-Stuff-With-Python/blob/master/Automate_boring_Stuff_p1.ipynb\" target=\"_parent\"><img src=\"https://colab.research.google.com/assets/colab-badge.svg\" alt=\"Open In Colab\"/></a>"
      ]
    },
    {
      "cell_type": "markdown",
      "source": [
        "<figure>\n",
        "  <img src = \"https://occ-0-1723-1722.1.nflxso.net/dnm/api/v6/E8vDc_W8CLv7-yMQu8KMEC7Rrr8/AAAABTk14Gug0poyJJmAkppVAWTv4PrFT5PcLpHmKB3BJMeE0ROgXpmLWaoAlXRUTVmHhy5DFVfCXfvL0xvyKxe_bjsboDRa.jpg?r=1c1\" alt = \"monthy Python Tribute\" style = \"Width : 100%\">\n",
        "  <figcaption align = \"center\"> Fig.1 Monthy Python and The Holy Grail</figcaption>\n",
        "</figure>"
      ],
      "metadata": {
        "id": "P5Yy7WMljuCY"
      }
    },
    {
      "cell_type": "markdown",
      "source": [
        "## **Introduction about me**\n",
        "<blockquote> *I am Farouk ECH-CHAREF , student at 1337 Khouribga (42Network's Child) , Im an IT Enthusiast   </blockquote> "
      ],
      "metadata": {
        "id": "zbt-JBT6l9w1"
      }
    },
    {
      "cell_type": "markdown",
      "source": [
        "***This is the first intro to Python Stuff ***"
      ],
      "metadata": {
        "id": "WkdnP4PiWwK5"
      }
    },
    {
      "cell_type": "markdown",
      "source": [
        "### *In this small code , we learn briefly how to import files into googe colab , as well as reading & retrieving information from them*"
      ],
      "metadata": {
        "id": "kHB0ZFf0gX86"
      }
    },
    {
      "cell_type": "code",
      "source": [
        "#importing files using google collab\n",
        "#files.upload returns a dictionary of the files which were uploaded.\n",
        "#The dictionary is keyed by the file name and values are the data which were uploaded.\n",
        "from google.colab import files\n",
        "\n",
        "uploaded = files.upload()\n",
        "\n",
        "for fn in uploaded.keys():\n",
        "  print('User uploaded file \"{name}\" with length {length} bytes'.format(\n",
        "      name=fn, length=len(uploaded[fn])))\n",
        "  \n",
        "#To open a file we use the built in function open(),whcih returns a file object   \n",
        "passwdFile = open(fn)\n",
        "\n",
        "#the file object returned has a read() method for reading the content of the file \n",
        "secretPasswd = passwdFile.read()\n",
        "\n",
        "#getting input from the user , storing in the input() function\n",
        "typedPasswd = input('Enter Passd: \\n')\n",
        "\n",
        "#Logic Block\n",
        "if typedPasswd == secretPasswd :\n",
        "  print('Access Granted')\n",
        "elif typedPasswd == '123456':\n",
        "  print('blasphemy')\n",
        "else : \n",
        "  print('Access Denied')"
      ],
      "metadata": {
        "id": "boyzsmXdXnaS"
      },
      "execution_count": null,
      "outputs": []
    },
    {
      "cell_type": "markdown",
      "source": [
        "## **I-Flow Control:** "
      ],
      "metadata": {
        "id": "5Z4D95sIxd9j"
      }
    },
    {
      "cell_type": "markdown",
      "source": [
        "**In this block , we'll mainly focus on the structure of the program and the logical aspects of it **"
      ],
      "metadata": {
        "id": "jMHQ3jP4SU38"
      }
    },
    {
      "cell_type": "markdown",
      "source": [
        "##### **<font color=green>~Condition/Try Except</font>**"
      ],
      "metadata": {
        "id": "yWG1xmymTnM7"
      }
    },
    {
      "cell_type": "code",
      "source": [
        "import sys\n",
        "from sys import exit\n",
        "\n",
        "#test if a module is imported\n",
        "#modulename = 'exit'\n",
        "#if modulename not in sys.modules:\n",
        "#    print('You have not imported the {} module'.format(modulename))\n",
        "name = input('Enter Name :')\n",
        "try :\n",
        "  age = int(input('Enter Age:'))\n",
        "except : \n",
        "  sys.exit(\"Error\")\n",
        "if ((name == 'fech') and (age > 18)) :\n",
        "  print(True)\n",
        "else :\n",
        "  print(False)"
      ],
      "metadata": {
        "id": "sgvU-awAy4sZ"
      },
      "execution_count": null,
      "outputs": []
    },
    {
      "cell_type": "markdown",
      "source": [
        "##### **<font color=\"green\">~While Loop</font>**"
      ],
      "metadata": {
        "id": "1bNxBEpubaw5"
      }
    },
    {
      "cell_type": "code",
      "source": [
        "name = input('Enter Name : ')\n",
        "while (name != 'fech-cha') :\n",
        "  name = input('Enter valid name ')\n",
        "print('Valid Now')"
      ],
      "metadata": {
        "id": "5HroGRUqbsIm"
      },
      "execution_count": null,
      "outputs": []
    },
    {
      "cell_type": "code",
      "source": [
        "while (True):\n",
        "  name = input('Name :')\n",
        "  if (name == 'fech-cha'):\n",
        "    break \n",
        "print('Valid break')"
      ],
      "metadata": {
        "id": "5UBiFkPbcWFO"
      },
      "execution_count": null,
      "outputs": []
    },
    {
      "cell_type": "markdown",
      "source": [
        "##### ****Using Infinite Loops to your favor:*** "
      ],
      "metadata": {
        "id": "jaAl7rxRyP3P"
      }
    },
    {
      "cell_type": "code",
      "source": [
        "while (True):\n",
        "  name = input(\"Enter your name: \\n\")\n",
        "  if name != \"farouk\":\n",
        "    print(\"You are not the right user!\")\n",
        "    continue\n",
        "  password = input(\"Enter password: \\n\")\n",
        "  while password != '123456abcdef' :\n",
        "    password = input(\"Invalid Password! Try Again: \") \n",
        "  break\n",
        "print(\"Welcome to your session! \\n\")"
      ],
      "metadata": {
        "id": "omsQA_U0ylUP"
      },
      "execution_count": null,
      "outputs": []
    },
    {
      "cell_type": "markdown",
      "source": [
        ">>~In infinite loops , we are making a process so that the loop is always going to run , the condition is always <mark>True</mark> ,so we have the power to stop it when goal is reached (some condition we want to check).\n",
        "<br>\n",
        "In case where we don't want to pass to the next like of code while our condition is not satisfied , we use the <mark><font color=\"green\">continue</font></mark> which jumps back to the first condition of the loop , look it up ;)"
      ],
      "metadata": {
        "id": "Yp3UZ-q_3QmD"
      }
    },
    {
      "cell_type": "markdown",
      "source": [
        "##### ****For loop and range:***"
      ],
      "metadata": {
        "id": "aLRuixC5540C"
      }
    },
    {
      "cell_type": "code",
      "source": [
        "count = 0\n",
        "for nb in range(10):\n",
        "  print(count)\n",
        "  count += nb\n",
        "print(count)"
      ],
      "metadata": {
        "id": "8iCyovCu52VR"
      },
      "execution_count": null,
      "outputs": []
    },
    {
      "cell_type": "markdown",
      "source": [
        "###### *~Things to look in range :* "
      ],
      "metadata": {
        "id": "pcnSlZlV7SDp"
      }
    },
    {
      "cell_type": "markdown",
      "source": [
        "```python\n",
        "  range(Start,Stop,Step)\n",
        "```"
      ],
      "metadata": {
        "id": "C3bxP5jn7gap"
      }
    },
    {
      "cell_type": "markdown",
      "source": [
        "##### **<font color=\"green\">~Importing Modules: </font>**"
      ],
      "metadata": {
        "id": "TMMWLkEFCoqF"
      }
    },
    {
      "cell_type": "markdown",
      "source": [
        ">This one is dependent on your environment and the packages you installed , so better use it in your IDE.\n",
        "<br>\n",
        "Consider the following : \n",
        "<br>\n",
        "<ul type=\"square\">\n",
        "  <li>The <mark>import</mark> keyword.</li>\n",
        "  <li>The name of the module.</li>\n",
        "  <li>Optionally , more modules as long as they are separated by commas.</li>\n",
        "</ul>"
      ],
      "metadata": {
        "id": "X50ms5vJCuX1"
      }
    },
    {
      "cell_type": "code",
      "source": [
        "import random\n",
        "for i in range(5):\n",
        "  print(random.randint(1, 10))"
      ],
      "metadata": {
        "id": "Paoek36zEFnr"
      },
      "execution_count": null,
      "outputs": []
    },
    {
      "cell_type": "markdown",
      "source": [
        "###### ~Short progran to guess a number : "
      ],
      "metadata": {
        "id": "08YOfxO9GMWh"
      }
    },
    {
      "cell_type": "code",
      "source": [
        "import random\n",
        "\n",
        "secretNb = random.randint(1,10000)\n",
        "nb = int(input(\"Enter ur number: \\n\"))\n",
        "#for guessesTaken in range(0,5):\n",
        "attempts = 5\n",
        "while nb != secretNb and attempts: \n",
        "  if (nb > secretNb) :\n",
        "    nb = int(input(\"Too high! Try Again: \"))\n",
        "  elif (nb < secretNb):\n",
        "    nb = int(input(\"Too Low ! Try Again: \"))\n",
        "  attempts = attempts - 1\n",
        "if (nb != secretNb):\n",
        "  print(\"Maybe Next Time !\")\n",
        "else :\n",
        "  print(\"Congrats! The number was : \"+str(secretNb)+\"\\n\")\n",
        "  print(\"You guessed it in \"+str(attempts)+\" Attempts\")"
      ],
      "metadata": {
        "colab": {
          "base_uri": "https://localhost:8080/"
        },
        "id": "20FkNyooGUbJ",
        "outputId": "6cf17f85-b106-4849-f4d9-11dbcbabe082"
      },
      "execution_count": 32,
      "outputs": [
        {
          "output_type": "stream",
          "name": "stdout",
          "text": [
            "Enter ur number: \n",
            "654564\n",
            "Too high! Try Again: 1212\n",
            "Too Low ! Try Again: 5656\n",
            "Too high! Try Again: 22\n",
            "Too Low ! Try Again: 22\n",
            "Too Low ! Try Again: 54634\n",
            "Maybe Next Time !\n"
          ]
        }
      ]
    },
    {
      "cell_type": "markdown",
      "source": [
        "Check [MyGithubAccount](https://github.com/Farouk-Data) To See More Content :) "
      ],
      "metadata": {
        "id": "Owh7lZgMiBew"
      }
    }
  ]
}