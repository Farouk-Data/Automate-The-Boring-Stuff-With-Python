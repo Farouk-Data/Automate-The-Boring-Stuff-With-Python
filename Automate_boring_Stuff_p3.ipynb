{
  "nbformat": 4,
  "nbformat_minor": 0,
  "metadata": {
    "colab": {
      "name": "Automate_boring_Stuff_p3.ipynb",
      "provenance": [],
      "collapsed_sections": [],
      "authorship_tag": "ABX9TyMX9ASzGLIgzb4+QNrhOAZT",
      "include_colab_link": true
    },
    "kernelspec": {
      "name": "python3",
      "display_name": "Python 3"
    },
    "language_info": {
      "name": "python"
    }
  },
  "cells": [
    {
      "cell_type": "markdown",
      "metadata": {
        "id": "view-in-github",
        "colab_type": "text"
      },
      "source": [
        "<a href=\"https://colab.research.google.com/github/Farouk-Data/Automate-The-Boring-Stuff-With-Python/blob/master/Automate_boring_Stuff_p3.ipynb\" target=\"_parent\"><img src=\"https://colab.research.google.com/assets/colab-badge.svg\" alt=\"Open In Colab\"/></a>"
      ]
    },
    {
      "cell_type": "markdown",
      "source": [
        "### <font color=\"green\">***~Dictionary: :***</font>"
      ],
      "metadata": {
        "id": "1gzNeqhtPW42"
      }
    },
    {
      "cell_type": "markdown",
      "source": [
        " # <font color = 'red'> syntax :</font>\n",
        "\n",
        "dict = {\n",
        "  <br>\n",
        "  key1 : key_value_pair1, <br>\n",
        "  key2 : key_value_pair2, <br>\n",
        "  key3 : key_value_pair3, <br>\n",
        "  } "
      ],
      "metadata": {
        "id": "vFwO5vx9R32x"
      }
    },
    {
      "cell_type": "code",
      "execution_count": null,
      "metadata": {
        "colab": {
          "base_uri": "https://localhost:8080/",
          "height": 53
        },
        "id": "azmzaEajI__d",
        "outputId": "fbfde3fa-e2f5-4853-8b46-34cbf7b3a9b2"
      },
      "outputs": [
        {
          "output_type": "stream",
          "name": "stdout",
          "text": [
            "{'book': 'The Fall', 'film': 'Fight Club', 'music': 'Camel', 'Age': 22, 42: 'the answer'}\n"
          ]
        },
        {
          "output_type": "execute_result",
          "data": {
            "application/vnd.google.colaboratory.intrinsic+json": {
              "type": "string"
            },
            "text/plain": [
              "'The Fall'"
            ]
          },
          "metadata": {},
          "execution_count": 5
        }
      ],
      "source": [
        "#example\n",
        "dictio = {'book':'The Fall' , 'film':'Fight Club' , 'music':'Camel' , 'Age':22 , 42:'the answer'} \n",
        "print(dictio)\n",
        "dictio['book']"
      ]
    },
    {
      "cell_type": "markdown",
      "source": [
        "~Order don't matter in dictionaries."
      ],
      "metadata": {
        "id": "CCe2RCH2YNZ4"
      }
    },
    {
      "cell_type": "code",
      "source": [
        "spam = ['cats', 'dogs', 'moose']\n",
        "bacon = ['dogs', 'moose', 'cats'] \n",
        "print(spam == bacon)\n",
        "\n",
        "eggs = {'name': 'Zophie', 'species': 'cat', 'age': '8'}\n",
        "ham = {'species': 'cat', 'age': '8', 'name': 'Zophie'}\n",
        "print(eggs == ham)"
      ],
      "metadata": {
        "colab": {
          "base_uri": "https://localhost:8080/"
        },
        "id": "HRVRBST_YRxX",
        "outputId": "3b91ea3b-433d-4197-c566-a0884b24d4ec"
      },
      "execution_count": null,
      "outputs": [
        {
          "output_type": "stream",
          "name": "stdout",
          "text": [
            "False\n",
            "True\n"
          ]
        }
      ]
    },
    {
      "cell_type": "code",
      "source": [
        "#manage dictionary with birthdays\n",
        "birthday = {'farouk' : '25 dec' , 'sarah' : '13 apr'}\n",
        "while True : \n",
        "  name = input('Enter name :')\n",
        "  if name == '':\n",
        "    break\n",
        "  if name in birthday:\n",
        "    print(birthday[name]+' is the birthday for '+name)\n",
        "  else : \n",
        "    print('Birthday not in database')\n",
        "    bd = input('Add their Birthday')\n",
        "    birthday[name] = bd\n",
        "    print('Database updated')\n",
        "print(birthday)"
      ],
      "metadata": {
        "colab": {
          "base_uri": "https://localhost:8080/"
        },
        "id": "_dnSpXoHyq41",
        "outputId": "027a0d53-155c-4adf-ec5f-43979d45cbc7"
      },
      "execution_count": null,
      "outputs": [
        {
          "output_type": "stream",
          "name": "stdout",
          "text": [
            "Enter name :farouk\n",
            "25 dec is the birthday for farouk\n",
            "Enter name :sarah\n",
            "13 apr is the birthday for sarah\n",
            "Enter name :unknown\n",
            "Birthday not in database\n",
            "Add their Birthday55 fuj\n",
            "Database updated\n",
            "Enter name :\n",
            "{'farouk': '25 dec', 'sarah': '13 apr', 'unknown': '55 fuj'}\n"
          ]
        }
      ]
    },
    {
      "cell_type": "markdown",
      "source": [
        "#### <font color = 'Orange'> ~Keys() , values(), and items() :</font>"
      ],
      "metadata": {
        "id": "GYjS0-9H6FDe"
      }
    },
    {
      "cell_type": "code",
      "source": [
        "#treat keys and their values like lists:\n",
        "\n",
        "dictio = {'empty' : None , 'first' : 1 , 'second' : 2 , 'third' : 3}\n",
        "for key in dictio.keys():\n",
        "  print(key)\n",
        "for value in dictio.values(): \n",
        "  print(value)\n",
        "for item in dictio.items():\n",
        "  print(item)"
      ],
      "metadata": {
        "colab": {
          "base_uri": "https://localhost:8080/"
        },
        "id": "_TwGSTm26TMD",
        "outputId": "912751b1-b4a9-4a35-d4b0-7f7cc8897e1a"
      },
      "execution_count": null,
      "outputs": [
        {
          "output_type": "stream",
          "name": "stdout",
          "text": [
            "empty\n",
            "first\n",
            "second\n",
            "third\n",
            "None\n",
            "1\n",
            "2\n",
            "3\n",
            "('empty', None)\n",
            "('first', 1)\n",
            "('second', 2)\n",
            "('third', 3)\n"
          ]
        }
      ]
    },
    {
      "cell_type": "code",
      "source": [
        "#get lists from dictionaries\n",
        "l1 = list(dictio.keys())\n",
        "print(l1)\n",
        "l2 = list(dictio.values())\n",
        "print(l2)\n"
      ],
      "metadata": {
        "colab": {
          "base_uri": "https://localhost:8080/"
        },
        "id": "zJPmklef8Ev4",
        "outputId": "b4ef18bb-354f-4186-ec86-26dd0406f8b1"
      },
      "execution_count": null,
      "outputs": [
        {
          "output_type": "stream",
          "name": "stdout",
          "text": [
            "['empty', 'first', 'second', 'third']\n",
            "[None, 1, 2, 3]\n"
          ]
        }
      ]
    },
    {
      "cell_type": "code",
      "source": [
        "#use in or not to check whether a value or a key exist in a dictionary"
      ],
      "metadata": {
        "id": "Am7oDip5-w8T"
      },
      "execution_count": null,
      "outputs": []
    },
    {
      "cell_type": "code",
      "source": [
        "#the get() method:\n",
        "#in case of a value not being in the dict , the get method gives you a fallback value to avoid errors\n",
        "\n",
        "print('this one exists and it\\'s value is: '+ str(dictio.get('first',-1)))\n",
        "print('this one doesn\\'t : '+str(dictio.get('test',-1)))"
      ],
      "metadata": {
        "id": "ueit16uE-5EZ",
        "colab": {
          "base_uri": "https://localhost:8080/"
        },
        "outputId": "b90cd120-5052-4d8a-cdc2-c6720257003e"
      },
      "execution_count": null,
      "outputs": [
        {
          "output_type": "stream",
          "name": "stdout",
          "text": [
            "this one exists and it's value is: 1\n",
            "this one doesn't : -1\n"
          ]
        }
      ]
    },
    {
      "cell_type": "code",
      "source": [
        "#setdefault() method \n",
        "#in case you want to add a new key and key_value to a dict\n",
        "\n",
        "#this code :\n",
        "if 'color' not in dictio :\n",
        "  dictio['color'] = 'Blue'\n",
        "\n",
        "#is equivalent to this \n",
        "\n",
        "dictio.setdefault('brand','Mustang')\n",
        "\n",
        "print(dictio)"
      ],
      "metadata": {
        "colab": {
          "base_uri": "https://localhost:8080/"
        },
        "id": "7TgHw258TRcG",
        "outputId": "c702791b-7023-4fa4-c855-b134bcac0228"
      },
      "execution_count": null,
      "outputs": [
        {
          "output_type": "stream",
          "name": "stdout",
          "text": [
            "{'empty': None, 'first': 1, 'second': 2, 'third': 3, 'color': 'Blue', 'brand': 'Mustang'}\n"
          ]
        }
      ]
    },
    {
      "cell_type": "code",
      "source": [
        "#using dictionary to count the number of occurences of each alphabet in a string: \n",
        "#using pprint module\n",
        "\n",
        "import pprint\n",
        "\n",
        "message = 'It was a bright cold day in April, and the clocks were striking thirteen.'\n",
        "count = {}\n",
        "for char in message:\n",
        "  count.setdefault(char,0)\n",
        "  count[char] = count[char] + 1\n",
        "\n",
        "#pprint.pprint(count)\n",
        "print(pprint.pformat(count))"
      ],
      "metadata": {
        "colab": {
          "base_uri": "https://localhost:8080/"
        },
        "id": "_dbn3rbymN17",
        "outputId": "62c66ee1-77f1-4820-8a17-fd43999cfd0c"
      },
      "execution_count": null,
      "outputs": [
        {
          "output_type": "stream",
          "name": "stdout",
          "text": [
            "{' ': 13,\n",
            " ',': 1,\n",
            " '.': 1,\n",
            " 'A': 1,\n",
            " 'I': 1,\n",
            " 'a': 4,\n",
            " 'b': 1,\n",
            " 'c': 3,\n",
            " 'd': 3,\n",
            " 'e': 5,\n",
            " 'g': 2,\n",
            " 'h': 3,\n",
            " 'i': 6,\n",
            " 'k': 2,\n",
            " 'l': 3,\n",
            " 'n': 4,\n",
            " 'o': 2,\n",
            " 'p': 1,\n",
            " 'r': 5,\n",
            " 's': 3,\n",
            " 't': 6,\n",
            " 'w': 2,\n",
            " 'y': 1}\n"
          ]
        }
      ]
    },
    {
      "cell_type": "code",
      "source": [
        "theBoard = {'7': ' ' , '8': ' ' , '9': ' ' ,\n",
        "            '4': ' ' , '5': ' ' , '6': ' ' ,\n",
        "            '1': ' ' , '2': ' ' , '3': ' ' }\n",
        "            \n",
        "def printBoard(board):\n",
        "    print(board['7'] + '|' + board['8'] + '|' + board['9'])\n",
        "    print('-+-+-')\n",
        "    print(board['4'] + '|' + board['5'] + '|' + board['6'])\n",
        "    print('-+-+-')\n",
        "    print(board['1'] + '|' + board['2'] + '|' + board['3'])\n",
        "\n",
        "printBoard(theBoard)"
      ],
      "metadata": {
        "colab": {
          "base_uri": "https://localhost:8080/",
          "height": 468
        },
        "id": "1ZTrLpntTLHJ",
        "outputId": "822eea3a-4674-4f66-e6f4-11b3870e023c"
      },
      "execution_count": 15,
      "outputs": [
        {
          "output_type": "error",
          "ename": "TypeError",
          "evalue": "ignored",
          "traceback": [
            "\u001b[0;31m---------------------------------------------------------------------------\u001b[0m",
            "\u001b[0;31mTypeError\u001b[0m                                 Traceback (most recent call last)",
            "\u001b[0;32m<ipython-input-15-eccd84457988>\u001b[0m in \u001b[0;36m<module>\u001b[0;34m()\u001b[0m\n\u001b[1;32m     10\u001b[0m     \u001b[0mprint\u001b[0m\u001b[0;34m(\u001b[0m\u001b[0mboard\u001b[0m\u001b[0;34m[\u001b[0m\u001b[0;34m'1'\u001b[0m\u001b[0;34m]\u001b[0m \u001b[0;34m+\u001b[0m \u001b[0;34m'|'\u001b[0m \u001b[0;34m+\u001b[0m \u001b[0mboard\u001b[0m\u001b[0;34m[\u001b[0m\u001b[0;34m'2'\u001b[0m\u001b[0;34m]\u001b[0m \u001b[0;34m+\u001b[0m \u001b[0;34m'|'\u001b[0m \u001b[0;34m+\u001b[0m \u001b[0mboard\u001b[0m\u001b[0;34m[\u001b[0m\u001b[0;34m'3'\u001b[0m\u001b[0;34m]\u001b[0m\u001b[0;34m)\u001b[0m\u001b[0;34m\u001b[0m\u001b[0;34m\u001b[0m\u001b[0m\n\u001b[1;32m     11\u001b[0m \u001b[0;34m\u001b[0m\u001b[0m\n\u001b[0;32m---> 12\u001b[0;31m \u001b[0mprintBoard\u001b[0m\u001b[0;34m(\u001b[0m\u001b[0mtheBoard\u001b[0m\u001b[0;34m)\u001b[0m\u001b[0;34m\u001b[0m\u001b[0;34m\u001b[0m\u001b[0m\n\u001b[0m",
            "\u001b[0;32m<ipython-input-15-eccd84457988>\u001b[0m in \u001b[0;36mprintBoard\u001b[0;34m(board)\u001b[0m\n\u001b[1;32m      4\u001b[0m \u001b[0;34m\u001b[0m\u001b[0m\n\u001b[1;32m      5\u001b[0m \u001b[0;32mdef\u001b[0m \u001b[0mprintBoard\u001b[0m\u001b[0;34m(\u001b[0m\u001b[0mboard\u001b[0m\u001b[0;34m)\u001b[0m\u001b[0;34m:\u001b[0m\u001b[0;34m\u001b[0m\u001b[0;34m\u001b[0m\u001b[0m\n\u001b[0;32m----> 6\u001b[0;31m     \u001b[0mprint\u001b[0m\u001b[0;34m(\u001b[0m\u001b[0mboard\u001b[0m\u001b[0;34m[\u001b[0m\u001b[0;34m'7'\u001b[0m\u001b[0;34m]\u001b[0m \u001b[0;34m+\u001b[0m \u001b[0;34m'|'\u001b[0m \u001b[0;34m+\u001b[0m \u001b[0mboard\u001b[0m\u001b[0;34m[\u001b[0m\u001b[0;34m'8'\u001b[0m\u001b[0;34m]\u001b[0m \u001b[0;34m+\u001b[0m \u001b[0;34m'|'\u001b[0m \u001b[0;34m+\u001b[0m \u001b[0mboard\u001b[0m\u001b[0;34m[\u001b[0m\u001b[0;34m'9'\u001b[0m\u001b[0;34m]\u001b[0m\u001b[0;34m)\u001b[0m\u001b[0;34m\u001b[0m\u001b[0;34m\u001b[0m\u001b[0m\n\u001b[0m\u001b[1;32m      7\u001b[0m     \u001b[0mprint\u001b[0m\u001b[0;34m(\u001b[0m\u001b[0;34m'-+-+-'\u001b[0m\u001b[0;34m)\u001b[0m\u001b[0;34m\u001b[0m\u001b[0;34m\u001b[0m\u001b[0m\n\u001b[1;32m      8\u001b[0m     \u001b[0mprint\u001b[0m\u001b[0;34m(\u001b[0m\u001b[0mboard\u001b[0m\u001b[0;34m[\u001b[0m\u001b[0;34m'4'\u001b[0m\u001b[0;34m]\u001b[0m \u001b[0;34m+\u001b[0m \u001b[0;34m'|'\u001b[0m \u001b[0;34m+\u001b[0m \u001b[0mboard\u001b[0m\u001b[0;34m[\u001b[0m\u001b[0;34m'5'\u001b[0m\u001b[0;34m]\u001b[0m \u001b[0;34m+\u001b[0m \u001b[0;34m'|'\u001b[0m \u001b[0;34m+\u001b[0m \u001b[0mboard\u001b[0m\u001b[0;34m[\u001b[0m\u001b[0;34m'6'\u001b[0m\u001b[0;34m]\u001b[0m\u001b[0;34m)\u001b[0m\u001b[0;34m\u001b[0m\u001b[0;34m\u001b[0m\u001b[0m\n",
            "\u001b[0;32m<ipython-input-1-b1febd9fa139>\u001b[0m in \u001b[0;36mprint\u001b[0;34m(myBoard)\u001b[0m\n\u001b[1;32m      3\u001b[0m \u001b[0mBoard\u001b[0m \u001b[0;34m=\u001b[0m \u001b[0;34m{\u001b[0m\u001b[0;34m'T_L'\u001b[0m \u001b[0;34m:\u001b[0m \u001b[0;34m' '\u001b[0m\u001b[0;34m,\u001b[0m \u001b[0;34m'T_M'\u001b[0m \u001b[0;34m:\u001b[0m \u001b[0;34m' '\u001b[0m\u001b[0;34m,\u001b[0m \u001b[0;34m'T_R'\u001b[0m \u001b[0;34m:\u001b[0m \u001b[0;34m' '\u001b[0m\u001b[0;34m,\u001b[0m \u001b[0;34m'M_L'\u001b[0m \u001b[0;34m:\u001b[0m \u001b[0;34m' '\u001b[0m\u001b[0;34m,\u001b[0m \u001b[0;34m'M_M'\u001b[0m \u001b[0;34m:\u001b[0m \u001b[0;34m' '\u001b[0m\u001b[0;34m,\u001b[0m \u001b[0;34m'M_R'\u001b[0m \u001b[0;34m:\u001b[0m \u001b[0;34m' '\u001b[0m\u001b[0;34m,\u001b[0m \u001b[0;34m'L_L'\u001b[0m \u001b[0;34m:\u001b[0m \u001b[0;34m' '\u001b[0m\u001b[0;34m,\u001b[0m \u001b[0;34m'L_R'\u001b[0m \u001b[0;34m:\u001b[0m \u001b[0;34m' '\u001b[0m\u001b[0;34m}\u001b[0m\u001b[0;34m\u001b[0m\u001b[0;34m\u001b[0m\u001b[0m\n\u001b[1;32m      4\u001b[0m \u001b[0;32mdef\u001b[0m \u001b[0mprint\u001b[0m\u001b[0;34m(\u001b[0m\u001b[0mmyBoard\u001b[0m\u001b[0;34m)\u001b[0m\u001b[0;34m:\u001b[0m\u001b[0;34m\u001b[0m\u001b[0;34m\u001b[0m\u001b[0m\n\u001b[0;32m----> 5\u001b[0;31m   \u001b[0mprint\u001b[0m\u001b[0;34m(\u001b[0m\u001b[0mmyBoard\u001b[0m\u001b[0;34m[\u001b[0m\u001b[0;34m'T_L'\u001b[0m\u001b[0;34m]\u001b[0m \u001b[0;34m+\u001b[0m \u001b[0;34m'|'\u001b[0m \u001b[0;34m+\u001b[0m \u001b[0mmyBoard\u001b[0m\u001b[0;34m[\u001b[0m\u001b[0;34m'T_M'\u001b[0m\u001b[0;34m]\u001b[0m \u001b[0;34m+\u001b[0m \u001b[0;34m'|'\u001b[0m \u001b[0;34m+\u001b[0m \u001b[0mmyBoard\u001b[0m\u001b[0;34m[\u001b[0m\u001b[0;34m'T_R'\u001b[0m\u001b[0;34m]\u001b[0m\u001b[0;34m)\u001b[0m\u001b[0;34m\u001b[0m\u001b[0;34m\u001b[0m\u001b[0m\n\u001b[0m\u001b[1;32m      6\u001b[0m   \u001b[0mprint\u001b[0m\u001b[0;34m(\u001b[0m\u001b[0;34m'--+--+--'\u001b[0m\u001b[0;34m)\u001b[0m\u001b[0;34m\u001b[0m\u001b[0;34m\u001b[0m\u001b[0m\n\u001b[1;32m      7\u001b[0m   \u001b[0mprint\u001b[0m\u001b[0;34m(\u001b[0m\u001b[0mmyBoard\u001b[0m\u001b[0;34m[\u001b[0m\u001b[0;34m'M_L'\u001b[0m\u001b[0;34m]\u001b[0m \u001b[0;34m+\u001b[0m \u001b[0;34m'|'\u001b[0m \u001b[0;34m+\u001b[0m \u001b[0mmyBoard\u001b[0m\u001b[0;34m[\u001b[0m\u001b[0;34m'M_M'\u001b[0m\u001b[0;34m]\u001b[0m \u001b[0;34m+\u001b[0m \u001b[0;34m'|'\u001b[0m \u001b[0;34m+\u001b[0m \u001b[0mmyBoard\u001b[0m\u001b[0;34m[\u001b[0m\u001b[0;34m'M_R'\u001b[0m\u001b[0;34m]\u001b[0m\u001b[0;34m)\u001b[0m\u001b[0;34m\u001b[0m\u001b[0;34m\u001b[0m\u001b[0m\n",
            "\u001b[0;31mTypeError\u001b[0m: string indices must be integers"
          ]
        }
      ]
    }
  ]
}