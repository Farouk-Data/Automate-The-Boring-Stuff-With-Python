{
  "nbformat": 4,
  "nbformat_minor": 0,
  "metadata": {
    "colab": {
      "name": "Copy of Automate_boring_Stuff_p2.ipynb.ipynb",
      "provenance": [],
      "collapsed_sections": [],
      "authorship_tag": "ABX9TyPk4cslBmf2eKZlqcAfvjtH",
      "include_colab_link": true
    },
    "kernelspec": {
      "name": "python3",
      "display_name": "Python 3"
    },
    "language_info": {
      "name": "python"
    }
  },
  "cells": [
    {
      "cell_type": "markdown",
      "metadata": {
        "id": "view-in-github",
        "colab_type": "text"
      },
      "source": [
        "<a href=\"https://colab.research.google.com/github/Farouk-Data/Automate-The-Boring-Stuff-With-Python/blob/master/Automate_boring_Stuff_p2_ipynb.ipynb\" target=\"_parent\"><img src=\"https://colab.research.google.com/assets/colab-badge.svg\" alt=\"Open In Colab\"/></a>"
      ]
    },
    {
      "cell_type": "markdown",
      "source": [
        "### <font color=\"green\">***~Functions:***</font>"
      ],
      "metadata": {
        "id": "vC7SaB9YOyBF"
      }
    },
    {
      "cell_type": "code",
      "execution_count": null,
      "metadata": {
        "colab": {
          "base_uri": "https://localhost:8080/"
        },
        "id": "HxuBU0IjOxZV",
        "outputId": "a4ac1dd6-1571-41fb-efab-7d41f99d6e09"
      },
      "outputs": [
        {
          "output_type": "stream",
          "name": "stdout",
          "text": [
            "5\n"
          ]
        }
      ],
      "source": [
        "def add(a,b):\n",
        "  res = a + b\n",
        "  return res\n",
        "\n",
        "print(add(2,3))"
      ]
    },
    {
      "cell_type": "markdown",
      "source": [
        "> ~In Python , there is a None value , the equivalent of <font color=\"blue\">Null</font> , can be used to initialize something or in a function that return nothing."
      ],
      "metadata": {
        "id": "mnYuAPvweeTS"
      }
    },
    {
      "cell_type": "markdown",
      "source": [
        "#### ~Global Variables:\n",
        "-You can change the value of a Gloabl variable with the <font color=\"blue\">global</font> statement."
      ],
      "metadata": {
        "id": "L_zmlkJvmj7t"
      }
    },
    {
      "cell_type": "code",
      "source": [
        "def test():\n",
        "  global g_var;\n",
        "  g_var = 1337;\n",
        "#g_var = 42;\n",
        "test();\n",
        "print(g_var);"
      ],
      "metadata": {
        "colab": {
          "base_uri": "https://localhost:8080/"
        },
        "id": "fVeQ7qXBm55M",
        "outputId": "c92320f8-2759-4d60-dded-a054243ef0ce"
      },
      "execution_count": null,
      "outputs": [
        {
          "output_type": "stream",
          "name": "stdout",
          "text": [
            "1337\n"
          ]
        }
      ]
    },
    {
      "cell_type": "markdown",
      "source": [
        "### <font color=\"green\">***~Exception Handeling :***</font>"
      ],
      "metadata": {
        "id": "vvu6SWmEpmNb"
      }
    },
    {
      "cell_type": "code",
      "source": [
        "def divide(nb,divideBy):\n",
        "  try:\n",
        "    return nb / divideBy;\n",
        "  except: \n",
        "    return 'ZeroDivisionError';\n",
        "print(divide(15,3));\n",
        "print(divide(666,0))\n"
      ],
      "metadata": {
        "colab": {
          "base_uri": "https://localhost:8080/"
        },
        "id": "S0yezjVUp7bp",
        "outputId": "8749be3d-b995-49bf-84e0-36d486c30e80"
      },
      "execution_count": null,
      "outputs": [
        {
          "output_type": "stream",
          "name": "stdout",
          "text": [
            "5.0\n",
            "ZeroDivisionError\n"
          ]
        }
      ]
    },
    {
      "cell_type": "markdown",
      "source": [
        "##### ~***Short Zigzag Program*** "
      ],
      "metadata": {
        "id": "-Rv-dtujyv7l"
      }
    },
    {
      "cell_type": "code",
      "source": [
        "import time, sys\n",
        "\n",
        "indent = 0 # How many spaces to indent.\n",
        "indentIncreasing = True # Whether the indentation is increasing or not.\n",
        "try:\n",
        "  while True: # The main program loop.\n",
        "  #end in print is the way of choosing how the print statement should end , by default end='\\n'\n",
        "    print(' ' * indent, end='x')\n",
        "    print('********')\n",
        "    time.sleep(0.3) # Pause for 1/10 of a second.\n",
        "    \n",
        "    if indentIncreasing:\n",
        "      # Increase the number of spaces: \n",
        "      indent = indent + 1\n",
        "      if indent == 20:\n",
        "        # Change direction: \n",
        "        indentIncreasing = False\n",
        "    else:\n",
        "      # Decrease the number of spaces:\n",
        "       indent = indent - 1\n",
        "       if indent == 0:\n",
        "         # Change direction: \n",
        "         indentIncreasing = True\n",
        "except KeyboardInterrupt:\n",
        "   sys.exit()"
      ],
      "metadata": {
        "id": "q1A3MjRAtH5p"
      },
      "execution_count": null,
      "outputs": []
    },
    {
      "cell_type": "markdown",
      "source": [
        "### <font color=\"green\">***~Lists :***</font>"
      ],
      "metadata": {
        "id": "39mFaJhk27L_"
      }
    },
    {
      "cell_type": "code",
      "source": [
        "#list : data type that can hold multiple values of different types\n",
        "list = [\"first\",\"second\",55,'testing',None]"
      ],
      "metadata": {
        "id": "3_Vc9D_D3A4V"
      },
      "execution_count": null,
      "outputs": []
    },
    {
      "cell_type": "code",
      "source": [
        "#printing the list\n",
        "list"
      ],
      "metadata": {
        "colab": {
          "base_uri": "https://localhost:8080/"
        },
        "id": "H3Ad9pQ9AzIH",
        "outputId": "4add3436-6eaa-4b58-dd95-89751cfbc004"
      },
      "execution_count": null,
      "outputs": [
        {
          "output_type": "execute_result",
          "data": {
            "text/plain": [
              "['first', 'second', 55, 'testing', None]"
            ]
          },
          "metadata": {},
          "execution_count": 4
        }
      ]
    },
    {
      "cell_type": "code",
      "source": [
        "list[0] = 'farouk'"
      ],
      "metadata": {
        "id": "lMYAuYzXPD4Y"
      },
      "execution_count": null,
      "outputs": []
    },
    {
      "cell_type": "code",
      "source": [
        "list"
      ],
      "metadata": {
        "colab": {
          "base_uri": "https://localhost:8080/"
        },
        "id": "j6V59Cb8Q6h2",
        "outputId": "0d0741f2-f190-4288-b4dd-c8a4a0c67360"
      },
      "execution_count": null,
      "outputs": [
        {
          "output_type": "execute_result",
          "data": {
            "text/plain": [
              "['farouk', 'second', 55, 'testing', None]"
            ]
          },
          "metadata": {},
          "execution_count": 6
        }
      ]
    },
    {
      "cell_type": "code",
      "source": [
        "#Indexing the list , you can use negative indexes to check from the last \n",
        "list[0] , list[1] , str(list[2])+list[3] , 'hi ' + list[0] , list[-2]"
      ],
      "metadata": {
        "colab": {
          "base_uri": "https://localhost:8080/"
        },
        "id": "OqafaSyhB5CO",
        "outputId": "43380939-2021-4443-bccb-e28dad4292a6"
      },
      "execution_count": null,
      "outputs": [
        {
          "output_type": "execute_result",
          "data": {
            "text/plain": [
              "('farouk', 'second', '55testing', 'hi farouk', 'testing')"
            ]
          },
          "metadata": {},
          "execution_count": 7
        }
      ]
    },
    {
      "cell_type": "code",
      "source": [
        "#looping in a list\n",
        "for elem in list:\n",
        "  print(elem)"
      ],
      "metadata": {
        "colab": {
          "base_uri": "https://localhost:8080/"
        },
        "id": "qbyGGv_3BXrX",
        "outputId": "5862f7f1-93c0-4e23-ce2f-5fad6ddd15b6"
      },
      "execution_count": null,
      "outputs": [
        {
          "output_type": "stream",
          "name": "stdout",
          "text": [
            "farouk\n",
            "second\n",
            "55\n",
            "testing\n",
            "None\n"
          ]
        }
      ]
    },
    {
      "cell_type": "code",
      "source": [
        "#nested lists\n",
        "parent = [['42',1337,'school'],['kafka','absurd',666],[69,'420','noice']]"
      ],
      "metadata": {
        "id": "Q-6LL4c6EMfo"
      },
      "execution_count": null,
      "outputs": []
    },
    {
      "cell_type": "code",
      "source": [
        "#handling nested list (like 2D arrays)\n",
        "#print nested list\n",
        "for child in parent:\n",
        "  for smaller in child:\n",
        "    print(smaller)"
      ],
      "metadata": {
        "colab": {
          "base_uri": "https://localhost:8080/"
        },
        "id": "D41Lq7c8EkYn",
        "outputId": "ba8de18c-97be-4d4e-fa54-ee1b5a12a6ec"
      },
      "execution_count": null,
      "outputs": [
        {
          "output_type": "stream",
          "name": "stdout",
          "text": [
            "42\n",
            "1337\n",
            "school\n",
            "kafka\n",
            "absurd\n",
            "666\n",
            "69\n",
            "420\n",
            "noice\n"
          ]
        }
      ]
    },
    {
      "cell_type": "code",
      "source": [
        "for child in parent:\n",
        "  print(child)"
      ],
      "metadata": {
        "colab": {
          "base_uri": "https://localhost:8080/"
        },
        "id": "5_dMLKNBFK8I",
        "outputId": "db61e915-afb1-4c4d-bdc3-7c4e3a0e96d6"
      },
      "execution_count": null,
      "outputs": [
        {
          "output_type": "stream",
          "name": "stdout",
          "text": [
            "['42', 1337, 'school']\n",
            "['kafka', 'absurd', 666]\n",
            "[69, '420', 'noice']\n"
          ]
        }
      ]
    },
    {
      "cell_type": "code",
      "source": [
        "#Slicing the list\n",
        "##get the first two elements\n",
        "new = parent[0:2]\n",
        "print(new)"
      ],
      "metadata": {
        "colab": {
          "base_uri": "https://localhost:8080/"
        },
        "id": "wgSqEWe3Gr8f",
        "outputId": "9314cde4-11ab-4828-859c-e224d9805e08"
      },
      "execution_count": null,
      "outputs": [
        {
          "output_type": "stream",
          "name": "stdout",
          "text": [
            "[['42', 1337, 'school'], ['kafka', 'absurd', 666]]\n"
          ]
        }
      ]
    },
    {
      "cell_type": "code",
      "source": [
        "#parent[0:3]\n",
        "parent[:3]"
      ],
      "metadata": {
        "colab": {
          "base_uri": "https://localhost:8080/"
        },
        "id": "0XVragHvHvgP",
        "outputId": "0261cd42-3ff6-41e4-ccf1-e7629327a7a1"
      },
      "execution_count": null,
      "outputs": [
        {
          "output_type": "execute_result",
          "data": {
            "text/plain": [
              "[['42', 1337, 'school'], ['kafka', 'absurd', 666], [69, '420', 'noice']]"
            ]
          },
          "metadata": {},
          "execution_count": 41
        }
      ]
    },
    {
      "cell_type": "code",
      "source": [
        "#get length \n",
        "len(new)"
      ],
      "metadata": {
        "colab": {
          "base_uri": "https://localhost:8080/"
        },
        "id": "BRwwze_lHNhY",
        "outputId": "bff5e94d-36ec-4d59-898c-4f9f16f008e8"
      },
      "execution_count": null,
      "outputs": [
        {
          "output_type": "execute_result",
          "data": {
            "text/plain": [
              "2"
            ]
          },
          "metadata": {},
          "execution_count": 36
        }
      ]
    },
    {
      "cell_type": "code",
      "source": [
        "#Assign new values to list (cries in c)\n",
        "\n",
        "list2 = ['string',55,5.3,'0000']\n",
        "list2[3] = 'changed'\n",
        "list2"
      ],
      "metadata": {
        "colab": {
          "base_uri": "https://localhost:8080/"
        },
        "id": "CxS-EMmRIRqH",
        "outputId": "3cd46892-3a6f-4ab5-ed21-be5dcd8361c4"
      },
      "execution_count": null,
      "outputs": [
        {
          "output_type": "execute_result",
          "data": {
            "text/plain": [
              "['string', 55, 5.3, 'changed']"
            ]
          },
          "metadata": {},
          "execution_count": 42
        }
      ]
    },
    {
      "cell_type": "code",
      "source": [
        "#List concat and replication\n",
        "one = ['1','2','3']\n",
        "two = ['4','5','6']\n",
        "one+two\n",
        "#['1', '2', '3', '4', '5', '6']\n",
        "three = one+two\n",
        "three"
      ],
      "metadata": {
        "colab": {
          "base_uri": "https://localhost:8080/"
        },
        "id": "3MMHpdIxJFpQ",
        "outputId": "094543ce-4317-452a-eace-d8598055f421"
      },
      "execution_count": null,
      "outputs": [
        {
          "output_type": "execute_result",
          "data": {
            "text/plain": [
              "['1', '2', '3', '4', '5', '6']"
            ]
          },
          "metadata": {},
          "execution_count": 52
        }
      ]
    },
    {
      "cell_type": "code",
      "source": [
        "#removing values with del statements\n",
        "del three[:2] \n",
        "three"
      ],
      "metadata": {
        "colab": {
          "base_uri": "https://localhost:8080/"
        },
        "id": "DIaHwiCYJfqA",
        "outputId": "af806736-a172-43a8-add7-9d46ad06e12e"
      },
      "execution_count": null,
      "outputs": [
        {
          "output_type": "execute_result",
          "data": {
            "text/plain": [
              "['3', '4', '5', '6']"
            ]
          },
          "metadata": {},
          "execution_count": 53
        }
      ]
    },
    {
      "cell_type": "code",
      "source": [
        "list3 = [1 , 2 , 3 , 4 , 5 , 42 , 1337]"
      ],
      "metadata": {
        "id": "yMIgK8qeRfMM"
      },
      "execution_count": null,
      "outputs": []
    },
    {
      "cell_type": "code",
      "source": [
        "del list3[3]"
      ],
      "metadata": {
        "id": "Osag0b_jRwWc"
      },
      "execution_count": null,
      "outputs": []
    },
    {
      "cell_type": "code",
      "source": [
        "list3"
      ],
      "metadata": {
        "colab": {
          "base_uri": "https://localhost:8080/"
        },
        "id": "tMMDEKb-R1i8",
        "outputId": "37e211de-2741-47a4-9e51-4da55fe96400"
      },
      "execution_count": null,
      "outputs": [
        {
          "output_type": "execute_result",
          "data": {
            "text/plain": [
              "[1, 2, 3, 5, 42, 1337]"
            ]
          },
          "metadata": {},
          "execution_count": 12
        }
      ]
    },
    {
      "cell_type": "code",
      "source": [
        "#Program to store variable cats name in a list\n",
        "cats = []\n",
        "while True :\n",
        "  name = input('Enter cat name or press Enter on Nothing to break :')\n",
        "  if name == '':\n",
        "    break\n",
        "  cats = cats + [name]\n",
        "for cat in cats :\n",
        "  print(' '+ cat)"
      ],
      "metadata": {
        "colab": {
          "base_uri": "https://localhost:8080/"
        },
        "id": "EVB-MyH8S9o4",
        "outputId": "5913fee4-86e9-4abf-c595-72df03f6040e"
      },
      "execution_count": null,
      "outputs": [
        {
          "output_type": "stream",
          "name": "stdout",
          "text": [
            "Enter cat name or press Enter on Nothing to break :niko\n",
            "Enter cat name or press Enter on Nothing to break :Electra\n",
            "Enter cat name or press Enter on Nothing to break :\n",
            " niko\n",
            " Electra\n"
          ]
        }
      ]
    },
    {
      "cell_type": "markdown",
      "source": [
        "#### <font color = 'Orange'> ~Using for loops to index a list:</font>"
      ],
      "metadata": {
        "id": "ajxPeDBfgaXH"
      }
    },
    {
      "cell_type": "code",
      "source": [
        "list1 = [1,2,3,4,4,'future']\n",
        "for i in range(len(list1)) : \n",
        "  print('index ' + str(i) + ' for ' + str(list1[i]))"
      ],
      "metadata": {
        "colab": {
          "base_uri": "https://localhost:8080/"
        },
        "id": "Xvb2z0zUgoK_",
        "outputId": "d33d5d75-2db0-4d82-8ae6-6240b9351b63"
      },
      "execution_count": null,
      "outputs": [
        {
          "output_type": "stream",
          "name": "stdout",
          "text": [
            "index 0 for 1\n",
            "index 1 for 2\n",
            "index 2 for 3\n",
            "index 3 for 4\n",
            "index 4 for 4\n",
            "index 5 for future\n"
          ]
        }
      ]
    },
    {
      "cell_type": "markdown",
      "source": [
        "#### <font color = 'Orange'> ~In & Not Operators:</font>"
      ],
      "metadata": {
        "id": "clJhih1DjTWv"
      }
    },
    {
      "cell_type": "code",
      "source": [
        "1 in list1"
      ],
      "metadata": {
        "colab": {
          "base_uri": "https://localhost:8080/"
        },
        "id": "GbHQyqbgjZqO",
        "outputId": "e367f932-87c0-4370-9a28-94ce7d7d2b2a"
      },
      "execution_count": null,
      "outputs": [
        {
          "output_type": "execute_result",
          "data": {
            "text/plain": [
              "True"
            ]
          },
          "metadata": {},
          "execution_count": 21
        }
      ]
    },
    {
      "cell_type": "code",
      "source": [
        "'this' in list1"
      ],
      "metadata": {
        "colab": {
          "base_uri": "https://localhost:8080/"
        },
        "id": "pNdfhIrnjed-",
        "outputId": "ecb305bb-02de-42cb-ddeb-6a446496e609"
      },
      "execution_count": null,
      "outputs": [
        {
          "output_type": "execute_result",
          "data": {
            "text/plain": [
              "False"
            ]
          },
          "metadata": {},
          "execution_count": 23
        }
      ]
    },
    {
      "cell_type": "code",
      "source": [
        "2 not in list1"
      ],
      "metadata": {
        "colab": {
          "base_uri": "https://localhost:8080/"
        },
        "id": "bLkE8DU2kB72",
        "outputId": "9efae6f5-0b66-4ce2-9b58-fd0ee76460be"
      },
      "execution_count": null,
      "outputs": [
        {
          "output_type": "execute_result",
          "data": {
            "text/plain": [
              "False"
            ]
          },
          "metadata": {},
          "execution_count": 25
        }
      ]
    },
    {
      "cell_type": "code",
      "source": [
        "#check whether a name exist in a list\n",
        "arr = ['Silicon valey','13','37','42','Network']\n",
        "name = input('Search: ?\\n')\n",
        "if name in arr:\n",
        "  print(name + ' Exist!')\n",
        "else :\n",
        "  print('Does not exist')"
      ],
      "metadata": {
        "colab": {
          "base_uri": "https://localhost:8080/"
        },
        "id": "eZRpNtFPkTx-",
        "outputId": "35243f6f-e114-4fb6-9092-99927c8ab5a3"
      },
      "execution_count": null,
      "outputs": [
        {
          "output_type": "stream",
          "name": "stdout",
          "text": [
            "Search: ?\n",
            "13\n",
            "13 Exist!\n"
          ]
        }
      ]
    },
    {
      "cell_type": "markdown",
      "source": [
        "***(Multiple assignment trick ~~Tuple Unpacking)***"
      ],
      "metadata": {
        "id": "OKNRfVsNoLCB"
      }
    },
    {
      "cell_type": "code",
      "source": [
        "#Using the enumerate() function \n",
        "for index,item in enumerate(list1) : \n",
        "  print('Index ' + str(index) + ' for item :' + str(item))"
      ],
      "metadata": {
        "colab": {
          "base_uri": "https://localhost:8080/"
        },
        "id": "sTdiCfsophwU",
        "outputId": "27106f0f-e93d-425e-f9a6-891383ef54e3"
      },
      "execution_count": null,
      "outputs": [
        {
          "output_type": "stream",
          "name": "stdout",
          "text": [
            "Index 0 for item :1\n",
            "Index 1 for item :2\n",
            "Index 2 for item :3\n",
            "Index 3 for item :4\n",
            "Index 4 for item :4\n",
            "Index 5 for item :future\n"
          ]
        }
      ]
    },
    {
      "cell_type": "markdown",
      "source": [
        "~The enumerate function returns at each iteration two values : index of the item in a list , and the list itself."
      ],
      "metadata": {
        "id": "F1IvVfxXq5pJ"
      }
    },
    {
      "cell_type": "markdown",
      "source": [
        "#### <font color = 'Orange'> ~Random module:</font>"
      ],
      "metadata": {
        "id": "DS6pbX1MrPRI"
      }
    },
    {
      "cell_type": "code",
      "source": [
        "import random\n",
        "Matrix = ['Blue Pill','Red Pill']\n",
        "random.choice(Matrix)"
      ],
      "metadata": {
        "colab": {
          "base_uri": "https://localhost:8080/",
          "height": 35
        },
        "id": "eVqwO2UYrVRQ",
        "outputId": "8bff7969-86f6-430f-ef50-a332f7446a14"
      },
      "execution_count": null,
      "outputs": [
        {
          "output_type": "execute_result",
          "data": {
            "application/vnd.google.colaboratory.intrinsic+json": {
              "type": "string"
            },
            "text/plain": [
              "'Red Pill'"
            ]
          },
          "metadata": {},
          "execution_count": 48
        }
      ]
    },
    {
      "cell_type": "code",
      "source": [
        "Life = ['egg' , 'chicken']\n",
        "print('First is :' + Life[0])\n",
        "random.shuffle(Life)\n",
        "print('First is :' + Life[0])"
      ],
      "metadata": {
        "colab": {
          "base_uri": "https://localhost:8080/"
        },
        "id": "A23CIrWvr9TJ",
        "outputId": "4216e15e-b7d0-4f59-ca07-76df81179932"
      },
      "execution_count": null,
      "outputs": [
        {
          "output_type": "stream",
          "name": "stdout",
          "text": [
            "First is :egg\n",
            "First is :chicken\n"
          ]
        }
      ]
    },
    {
      "cell_type": "code",
      "source": [
        "#Augmented assignment for string\n",
        "elem = ['One']\n",
        "elem *= 3\n",
        "elem"
      ],
      "metadata": {
        "colab": {
          "base_uri": "https://localhost:8080/"
        },
        "id": "w5eO79GstyIr",
        "outputId": "023a32be-acb1-4736-8a1f-cdfec59d32d8"
      },
      "execution_count": null,
      "outputs": [
        {
          "output_type": "execute_result",
          "data": {
            "text/plain": [
              "['One', 'One', 'One']"
            ]
          },
          "metadata": {},
          "execution_count": 51
        }
      ]
    },
    {
      "cell_type": "markdown",
      "source": [
        "#### <font color = 'Orange'> ~Method:</font>"
      ],
      "metadata": {
        "id": "N8jaDuT01uqG"
      }
    },
    {
      "cell_type": "code",
      "source": [
        "#return index with index() method\n",
        "list3 = [1, 2, 3, 4, 5, 42, 1337,'Network','1337']\n",
        "list3.index(1337) #the index of the first one is returned\n"
      ],
      "metadata": {
        "colab": {
          "base_uri": "https://localhost:8080/"
        },
        "id": "iyYQO-pi1yJ0",
        "outputId": "3916ded8-e9dd-43a0-f74a-94e5199e8988"
      },
      "execution_count": null,
      "outputs": [
        {
          "output_type": "execute_result",
          "data": {
            "text/plain": [
              "6"
            ]
          },
          "metadata": {},
          "execution_count": 65
        }
      ]
    },
    {
      "cell_type": "code",
      "source": [
        "#append,insert in a list \n",
        "list3.append(3)\n",
        "list3"
      ],
      "metadata": {
        "colab": {
          "base_uri": "https://localhost:8080/"
        },
        "id": "BQqZe4bz8FES",
        "outputId": "667cda15-ad3a-46c7-d551-87e3a5877394"
      },
      "execution_count": null,
      "outputs": [
        {
          "output_type": "execute_result",
          "data": {
            "text/plain": [
              "[1, 2, 3, 4, 5, 42, 1337, 'Network', '1337', 3]"
            ]
          },
          "metadata": {},
          "execution_count": 66
        }
      ]
    },
    {
      "cell_type": "code",
      "source": [
        "list3.insert(2,'here')\n",
        "list3"
      ],
      "metadata": {
        "colab": {
          "base_uri": "https://localhost:8080/"
        },
        "id": "5MHKXhKX8X4w",
        "outputId": "119be180-f253-41b1-81ca-d77b0a9c4b6d"
      },
      "execution_count": null,
      "outputs": [
        {
          "output_type": "execute_result",
          "data": {
            "text/plain": [
              "[1, 2, 'here', 3, 4, 5, 42, 1337, 'Network', '1337', 3]"
            ]
          },
          "metadata": {},
          "execution_count": 67
        }
      ]
    },
    {
      "cell_type": "code",
      "source": [
        "#removing values using remove\n",
        "list3.remove(3)\n",
        "list3"
      ],
      "metadata": {
        "colab": {
          "base_uri": "https://localhost:8080/"
        },
        "id": "caRgbxWh-SmX",
        "outputId": "52e6c5a9-136b-429b-92c6-0e9bcb9f07b7"
      },
      "execution_count": null,
      "outputs": [
        {
          "output_type": "execute_result",
          "data": {
            "text/plain": [
              "[1, 2, 'here', 4, 5, 42, 1337, 'Network', '1337', 3]"
            ]
          },
          "metadata": {},
          "execution_count": 68
        }
      ]
    },
    {
      "cell_type": "code",
      "source": [
        "#Sorting\n",
        "arr = [0 , -5 , 55 , 42 , 1337]\n",
        "arr.sort()\n",
        "print(arr)\n",
        "#sorting alpha in ASCII Order\n",
        "alph = ['z', 'c' ,'A', 'R' , 'C' ,  'r' , 'a' , 'y' , 'a']\n",
        "alph.sort()\n",
        "print(alph)\n",
        "alph.sort(reverse = True)\n",
        "print(alph)\n",
        "#sorting alpha in Alphabetical order\n",
        "alph.sort(key=str.lower)\n",
        "print(alph)"
      ],
      "metadata": {
        "colab": {
          "base_uri": "https://localhost:8080/"
        },
        "id": "lX1r00UBBMeF",
        "outputId": "54e68a5b-8a55-4515-a3e8-e131f6204b10"
      },
      "execution_count": null,
      "outputs": [
        {
          "output_type": "stream",
          "name": "stdout",
          "text": [
            "[-5, 0, 42, 55, 1337]\n",
            "['A', 'C', 'R', 'a', 'a', 'c', 'r', 'y', 'z']\n",
            "['z', 'y', 'r', 'c', 'a', 'a', 'R', 'C', 'A']\n",
            "['a', 'a', 'A', 'c', 'C', 'r', 'R', 'y', 'z']\n"
          ]
        }
      ]
    },
    {
      "cell_type": "markdown",
      "source": [
        "### <font color=\"green\">***~Tuple Data Type: ***</font>"
      ],
      "metadata": {
        "id": "LjohewsIME0s"
      }
    },
    {
      "cell_type": "code",
      "source": [
        "#tuples are similar to List , but main difference , besides the syntax ,is that Tuples are Immutables\n",
        "tuple1 = ('test', '5' , 3)\n",
        "print(len(tuple1))\n",
        "#tuple1.append('appended') can't\n",
        "#tuple1.insert(1,'Inserted') can't\n",
        "for tp in tuple1 : \n",
        "  print(tp)"
      ],
      "metadata": {
        "colab": {
          "base_uri": "https://localhost:8080/"
        },
        "id": "_K8hP1QUMIbc",
        "outputId": "7105ebb4-18fa-4f15-9ab8-5c465f8d4de8"
      },
      "execution_count": null,
      "outputs": [
        {
          "output_type": "stream",
          "name": "stdout",
          "text": [
            "3\n",
            "test\n",
            "5\n",
            "3\n"
          ]
        }
      ]
    },
    {
      "cell_type": "markdown",
      "source": [
        "#### <font color = 'Orange'> ~Tuple <=> List:</font>"
      ],
      "metadata": {
        "id": "qLfFYvsWOfzp"
      }
    },
    {
      "cell_type": "code",
      "source": [
        "tuple(['one' , 'two' , 'three'])"
      ],
      "metadata": {
        "colab": {
          "base_uri": "https://localhost:8080/"
        },
        "id": "CbZfUpsCOkpI",
        "outputId": "80f38684-7b90-4a8b-f708-585b9822d636"
      },
      "execution_count": null,
      "outputs": [
        {
          "output_type": "execute_result",
          "data": {
            "text/plain": [
              "('one', 'two', 'three')"
            ]
          },
          "metadata": {},
          "execution_count": 83
        }
      ]
    },
    {
      "cell_type": "markdown",
      "source": [
        "~ This would work in an IDE"
      ],
      "metadata": {
        "id": "l_xoKe9BWbZH"
      }
    },
    {
      "cell_type": "code",
      "source": [
        "#initialize tuple\n",
        "aTuple = (True, 28, \"Tiger\")\n",
        "\n",
        "#tuple to list\n",
        "aList = list(aTuple)\n",
        "\n",
        "#print list\n",
        "print(type(aList))\n",
        "print(aList)"
      ],
      "metadata": {
        "id": "M6-AfH0BTBG4"
      },
      "execution_count": null,
      "outputs": []
    },
    {
      "cell_type": "markdown",
      "source": [
        "#### <font color = 'Orange'> ~References:</font>"
      ],
      "metadata": {
        "id": "icv8jeo3dGs2"
      }
    },
    {
      "cell_type": "code",
      "source": [
        "#for string & integers which are immutable (kinda static or in stack)\n",
        "val1 = 42\n",
        "val2 = val1\n",
        "val1 = 1337\n",
        "print('Val1 = ',val1)\n",
        "print('Val2 = ',val2)\n",
        "str1 = 'test'\n",
        "str2 = str1\n",
        "str1 = 'test2'\n",
        "print('str1 = '+str1)\n",
        "print('str2 = '+str2)"
      ],
      "metadata": {
        "colab": {
          "base_uri": "https://localhost:8080/"
        },
        "id": "NRhQ-CerdD0O",
        "outputId": "46fc0760-6172-4161-f3c8-fac44e5779ad"
      },
      "execution_count": null,
      "outputs": [
        {
          "output_type": "stream",
          "name": "stdout",
          "text": [
            "Val1 =  1337\n",
            "Val2 =  42\n",
            "str1 = test2\n",
            "str2 = test\n"
          ]
        }
      ]
    },
    {
      "cell_type": "code",
      "source": [
        "#for lists which are Mutable (kinda dynamic , allocated)\n",
        "#the reference for the list is being copied , not the list (under the hood , it's like list1 & list2 are pointing to the same list)\n",
        "list1 = ['a' , 'b' , 'c' , 'd']\n",
        "list2 = list1\n",
        "list1[2] = 'changed'\n",
        "print(list1[2] + ' = ' +list2[2])"
      ],
      "metadata": {
        "colab": {
          "base_uri": "https://localhost:8080/"
        },
        "id": "dpo0KjoaeBEd",
        "outputId": "1ed4b42e-4c96-4591-da0d-09e25162dfbc"
      },
      "execution_count": null,
      "outputs": [
        {
          "output_type": "stream",
          "name": "stdout",
          "text": [
            "changed = changed\n"
          ]
        }
      ]
    },
    {
      "cell_type": "code",
      "source": [
        "#Passing Refernces\n",
        "def changeList(List):\n",
        "  List.append('appended')\n",
        "\n",
        "main = ['1','2','2']\n",
        "changeList(main)\n",
        "print(main)"
      ],
      "metadata": {
        "id": "r9ECgodgpAvx",
        "outputId": "9827f588-6da3-4488-afb9-f2bd379616d2",
        "colab": {
          "base_uri": "https://localhost:8080/"
        }
      },
      "execution_count": null,
      "outputs": [
        {
          "output_type": "stream",
          "name": "stdout",
          "text": [
            "['1', '2', '2', 'appended']\n"
          ]
        }
      ]
    },
    {
      "cell_type": "code",
      "source": [
        "#Copy \n",
        "import copy\n",
        "org = ['A' , 'B' , 'C' , 'ORG']\n",
        "dup = copy.copy(org)\n",
        "dup.append('appended')\n",
        "print(dup)\n",
        "print(org)"
      ],
      "metadata": {
        "colab": {
          "base_uri": "https://localhost:8080/"
        },
        "id": "8d3k2E0dqZ5e",
        "outputId": "c9c41a8b-9d8a-45b9-a161-cbbd9f084bd3"
      },
      "execution_count": null,
      "outputs": [
        {
          "output_type": "stream",
          "name": "stdout",
          "text": [
            "['A', 'B', 'C', 'ORG', 'appended']\n",
            "['A', 'B', 'C', 'ORG']\n"
          ]
        }
      ]
    },
    {
      "cell_type": "markdown",
      "source": [
        ">>Conway's game of life is a famous celluar automata ,where the universe of the Game Of life is an infinite two-dimensional orthogonal grid of square cells , each of which is in one of two possible states , <font color = \"blue\">alive</font> or <font color = \"blue\">dead</font>.\n",
        "<br>\n",
        "Every cell interects with it's eight neighbours , which are the cells that are horizontally , vertically , or diagonally adjacent . At each step in time (generation) , the following transitions occur :    \n",
        "<br>\n",
        "1==> Any live cell with fewer than two live neighbours dies, as if caused by underpopultion.\n",
        "<br>\n",
        "2==> Any live cell with two or three live neighbours lives on to the next generation.\n",
        "<br>\n",
        "3==> Any live cell with more than three live neighbours dies, as if by overcrowding.\n",
        "<br>\n",
        "4==> Any dead cell with exactly three live neighbours becomes a live cell , as if by reproduction."
      ],
      "metadata": {
        "id": "YcNvbXY9fSCG"
      }
    },
    {
      "cell_type": "code",
      "source": [
        "# Conway's Game of Life \n",
        "import random , copy, time\n",
        "WIDTH = 60\n",
        "HEIGHT = 20\n",
        "nextCells = []\n",
        "for x in range(WIDTH):\n",
        "  column = []\n",
        "  for y in range(HEIGHT):\n",
        "    if (x, y) in ((1, 0), (2, 1), (0, 2), (1, 2), (2, 2)):\n",
        "      column.append('#')\n",
        "    else :\n",
        "      column.append(' ')\n",
        "  nextCells.append(column)\n",
        "\n",
        "while True:\n",
        "  print('\\n\\n\\n\\n\\n')\n",
        "  currentCells = copy.deepcopy(nextCells)\n",
        "\n",
        "  for y in range(HEIGHT):\n",
        "    for x in range(WIDTH):\n",
        "      print(currentCells[x][y], end = '')\n",
        "    print()\n",
        "  \n",
        "  for x in range(WIDTH):\n",
        "    for y in range(HEIGHT):\n",
        "\n",
        "      #avoid getting out of boundaries\n",
        "      leftCord = (x - 1) % WIDTH\n",
        "      rightCord = (x + 1) % WIDTH\n",
        "      aboveCord = (y - 1) % HEIGHT\n",
        "      belowCord = (y + 1) % HEIGHT\n",
        "\n",
        "      NbOfNeighbors = 0\n",
        "      if (currentCells[leftCord][aboveCord] == '#'):\n",
        "        NbOfNeighbors += 1\n",
        "      if (currentCells[x][aboveCord] == '#'):\n",
        "        NbOfNeighbors += 1\n",
        "      if (currentCells[rightCord][aboveCord] == '#'):\n",
        "        NbOfNeighbors += 1\n",
        "      if (currentCells[leftCord][y] == '#'):\n",
        "        NbOfNeighbors += 1\n",
        "      if (currentCells[rightCord][y] == '#'):\n",
        "        NbOfNeighbors += 1\n",
        "      if (currentCells[leftCord][belowCord] == '#'):\n",
        "        NbOfNeighbors += 1\n",
        "      if (currentCells[x][belowCord] == '#'):\n",
        "        NbOfNeighbors += 1\n",
        "      if (currentCells[rightCord][belowCord] == '#'):\n",
        "        NbOfNeighbors += 1\n",
        "\n",
        "      #Applying the rules \n",
        "      if (currentCells[x][y] == '#' and (NbOfNeighbors == 2 or NbOfNeighbors == 3)):\n",
        "        nextCells[x][y] = '#'\n",
        "      elif (currentCells[x][y] == ' ' and NbOfNeighbors == 3):\n",
        "        nextCells[x][y] = '#'\n",
        "      else : \n",
        "        nextCells[x][y] = ' '\n",
        "  time.sleep(1)"
      ],
      "metadata": {
        "id": "oTsyFvnBVtQn"
      },
      "execution_count": null,
      "outputs": []
    },
    {
      "cell_type": "markdown",
      "source": [
        "### <font color=\"green\">****~Practice Projects: ****</font>"
      ],
      "metadata": {
        "id": "dlTLhCPAhfZa"
      }
    },
    {
      "cell_type": "code",
      "source": [
        "#Comma Code :\n",
        "#List as input , string as output :\n",
        "import copy\n",
        "\n",
        "def LtoS(myList):\n",
        "  myString = ' '\n",
        "  if len(myList) == 0:\n",
        "    myString = '(Empty)'\n",
        "    return myString\n",
        "  for i in range(len(myList)):\n",
        "      myString += str(myList[i])\n",
        "      if i < len(myList) - 1 :\n",
        "        myString += ', '\n",
        "      if i == len(myList) - 2 :\n",
        "        myString += 'and '\n",
        "  return (myString)\n",
        "\n",
        "#test = ['first', 'second', 'third',55, 'forth', 'fifth']\n",
        "#test = []\n",
        "#test = [35 , 64 , 545 , 45453 ]\n",
        "test = ['0']\n",
        "string =  LtoS(test)\n",
        "print(string)\n"
      ],
      "metadata": {
        "colab": {
          "base_uri": "https://localhost:8080/"
        },
        "id": "m3TV1UoJhfFz",
        "outputId": "0408062d-ec00-4799-dea0-add7490d9743"
      },
      "execution_count": null,
      "outputs": [
        {
          "output_type": "stream",
          "name": "stdout",
          "text": [
            " 0\n"
          ]
        }
      ]
    },
    {
      "cell_type": "code",
      "source": [
        "#Coin Flip Streaks\n",
        "import random\n",
        "\n",
        "#listStreak = ['H' , 'H' , 'H' , 'H' ,'H' , 'H' , 'T' , 'H' , 'T' , 'T' , 'T' , 'T' , 'T'  ]\n",
        "listStreak = []\n",
        "numberOfStreaks = 0\n",
        "for expNb in range(1000):\n",
        "\n",
        "  #creating a list randomnly\n",
        "  for i in range(100):\n",
        "    if random.randint(0 , 1) == 0:\n",
        "      listStreak.append('T')\n",
        "    elif random.randint(0 , 1) == 1:\n",
        "      listStreak.append('H')\n",
        "\n",
        "  #Checking streaks\n",
        "  counter = 0\n",
        "  for index in range(len(listStreak)) :\n",
        "  #if (index == len(listStreak) - 1): in case of (if listStreak[index] == listStreak[index + 1])\n",
        "    #break\n",
        "    if (index == 0):\n",
        "      counter += 1\n",
        "      continue\n",
        "    elif listStreak[index] == listStreak[index - 1]:\n",
        "      counter += 1\n",
        "    else :\n",
        "      counter = 1\n",
        "    if (counter == 6):\n",
        "      numberOfStreaks += 1\n",
        "print('chance of streak %s%%'%(numberOfStreaks / (100 * 1000)))"
      ],
      "metadata": {
        "colab": {
          "base_uri": "https://localhost:8080/"
        },
        "id": "Cv8vxwUxtBRT",
        "outputId": "5bd62f01-c4e9-4759-b70d-b1ebaca9606f"
      },
      "execution_count": 59,
      "outputs": [
        {
          "output_type": "stream",
          "name": "stdout",
          "text": [
            "chance of streak 11.57745%\n"
          ]
        }
      ]
    },
    {
      "cell_type": "code",
      "source": [
        "#character picture grid\n",
        "grid = [['.', '.', '.', '.', '.', '.'], ['.', 'O', 'O', '.', '.', '.'], ['O', 'O', 'O', 'O', '.', '.'], ['O', 'O', 'O', 'O', 'O', '.'],\n",
        "['.', 'O', 'O', 'O', 'O', 'O'], ['O', 'O', 'O', 'O', 'O', '.'], ['O', 'O', 'O', 'O', '.', '.'], ['.', 'O', 'O', '.', '.', '.'], ['.', '.', '.', '.', '.', '.']]\n",
        "for item in grid : \n",
        "  print(item)\n",
        "  \n",
        "print()\n",
        "\n",
        "for y in range(len(grid[y])):\n",
        "  for x in range(len(grid)):\n",
        "    print(grid[x][y], end = '')\n",
        "  print() "
      ],
      "metadata": {
        "colab": {
          "base_uri": "https://localhost:8080/"
        },
        "id": "F_0x-ko_1jik",
        "outputId": "2a26007e-1fa9-4555-e986-27f28d2e2cd6"
      },
      "execution_count": 80,
      "outputs": [
        {
          "output_type": "stream",
          "name": "stdout",
          "text": [
            "['.', '.', '.', '.', '.', '.']\n",
            "['.', 'O', 'O', '.', '.', '.']\n",
            "['O', 'O', 'O', 'O', '.', '.']\n",
            "['O', 'O', 'O', 'O', 'O', '.']\n",
            "['.', 'O', 'O', 'O', 'O', 'O']\n",
            "['O', 'O', 'O', 'O', 'O', '.']\n",
            "['O', 'O', 'O', 'O', '.', '.']\n",
            "['.', 'O', 'O', '.', '.', '.']\n",
            "['.', '.', '.', '.', '.', '.']\n",
            "\n",
            "..OO.OO..\n",
            ".OOOOOOO.\n",
            ".OOOOOOO.\n",
            "..OOOOO..\n",
            "...OOO...\n",
            "....O....\n"
          ]
        }
      ]
    }
  ]
}