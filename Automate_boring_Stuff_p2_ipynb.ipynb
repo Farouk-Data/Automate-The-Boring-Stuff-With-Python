{
  "nbformat": 4,
  "nbformat_minor": 0,
  "metadata": {
    "colab": {
      "name": "Automate_boring_Stuff_p2.ipynb.ipynb",
      "provenance": [],
      "collapsed_sections": [],
      "authorship_tag": "ABX9TyMdn9uYwAFssSVO6Tr30CAc",
      "include_colab_link": true
    },
    "kernelspec": {
      "name": "python3",
      "display_name": "Python 3"
    },
    "language_info": {
      "name": "python"
    }
  },
  "cells": [
    {
      "cell_type": "markdown",
      "metadata": {
        "id": "view-in-github",
        "colab_type": "text"
      },
      "source": [
        "<a href=\"https://colab.research.google.com/github/Farouk-Data/Automate-The-Boring-Stuff-With-Python/blob/master/Automate_boring_Stuff_p2_ipynb.ipynb\" target=\"_parent\"><img src=\"https://colab.research.google.com/assets/colab-badge.svg\" alt=\"Open In Colab\"/></a>"
      ]
    },
    {
      "cell_type": "markdown",
      "source": [
        "### <font color=\"green\">***~Functions:***</font>"
      ],
      "metadata": {
        "id": "vC7SaB9YOyBF"
      }
    },
    {
      "cell_type": "code",
      "execution_count": null,
      "metadata": {
        "colab": {
          "base_uri": "https://localhost:8080/"
        },
        "id": "HxuBU0IjOxZV",
        "outputId": "a4ac1dd6-1571-41fb-efab-7d41f99d6e09"
      },
      "outputs": [
        {
          "output_type": "stream",
          "name": "stdout",
          "text": [
            "5\n"
          ]
        }
      ],
      "source": [
        "def add(a,b):\n",
        "  res = a + b\n",
        "  return res\n",
        "\n",
        "print(add(2,3))"
      ]
    },
    {
      "cell_type": "markdown",
      "source": [
        "> ~In Python , there is a None value , the equivalent of <font color=\"blue\">Null</font> , can be used to initialize something or in a function that return nothing."
      ],
      "metadata": {
        "id": "mnYuAPvweeTS"
      }
    },
    {
      "cell_type": "markdown",
      "source": [
        "#### ~Global Variables:\n",
        "-You can change the value of a Gloabl variable with the <font color=\"blue\">global</font> statement."
      ],
      "metadata": {
        "id": "L_zmlkJvmj7t"
      }
    },
    {
      "cell_type": "code",
      "source": [
        "def test():\n",
        "  global g_var;\n",
        "  g_var = 1337;\n",
        "#g_var = 42;\n",
        "test();\n",
        "print(g_var);"
      ],
      "metadata": {
        "colab": {
          "base_uri": "https://localhost:8080/"
        },
        "id": "fVeQ7qXBm55M",
        "outputId": "c92320f8-2759-4d60-dded-a054243ef0ce"
      },
      "execution_count": null,
      "outputs": [
        {
          "output_type": "stream",
          "name": "stdout",
          "text": [
            "1337\n"
          ]
        }
      ]
    },
    {
      "cell_type": "markdown",
      "source": [
        "### <font color=\"green\">***~Exception Handeling :***</font>"
      ],
      "metadata": {
        "id": "vvu6SWmEpmNb"
      }
    },
    {
      "cell_type": "code",
      "source": [
        "def divide(nb,divideBy):\n",
        "  try:\n",
        "    return nb / divideBy;\n",
        "  except: \n",
        "    return 'ZeroDivisionError';\n",
        "print(divide(15,3));\n",
        "print(divide(666,0))\n"
      ],
      "metadata": {
        "colab": {
          "base_uri": "https://localhost:8080/"
        },
        "id": "S0yezjVUp7bp",
        "outputId": "8749be3d-b995-49bf-84e0-36d486c30e80"
      },
      "execution_count": null,
      "outputs": [
        {
          "output_type": "stream",
          "name": "stdout",
          "text": [
            "5.0\n",
            "ZeroDivisionError\n"
          ]
        }
      ]
    },
    {
      "cell_type": "markdown",
      "source": [
        "##### ~***Short Zigzag Program*** "
      ],
      "metadata": {
        "id": "-Rv-dtujyv7l"
      }
    },
    {
      "cell_type": "code",
      "source": [
        "import time, sys\n",
        "\n",
        "indent = 0 # How many spaces to indent.\n",
        "indentIncreasing = True # Whether the indentation is increasing or not.\n",
        "try:\n",
        "  while True: # The main program loop.\n",
        "  #end in print is the way of choosing how the print statement should end , by default end='\\n'\n",
        "    print(' ' * indent, end='x')\n",
        "    print('********')\n",
        "    time.sleep(0.3) # Pause for 1/10 of a second.\n",
        "    \n",
        "    if indentIncreasing:\n",
        "      # Increase the number of spaces: \n",
        "      indent = indent + 1\n",
        "      if indent == 20:\n",
        "        # Change direction: \n",
        "        indentIncreasing = False\n",
        "    else:\n",
        "      # Decrease the number of spaces:\n",
        "       indent = indent - 1\n",
        "       if indent == 0:\n",
        "         # Change direction: \n",
        "         indentIncreasing = True\n",
        "except KeyboardInterrupt:\n",
        "   sys.exit()"
      ],
      "metadata": {
        "id": "q1A3MjRAtH5p"
      },
      "execution_count": null,
      "outputs": []
    },
    {
      "cell_type": "markdown",
      "source": [
        "### <font color=\"green\">***~Lists :***</font>"
      ],
      "metadata": {
        "id": "39mFaJhk27L_"
      }
    },
    {
      "cell_type": "code",
      "source": [
        "#list : data type that can hold multiple values of different types\n",
        "list = [\"first\",\"second\",55,'testing',None]"
      ],
      "metadata": {
        "id": "3_Vc9D_D3A4V"
      },
      "execution_count": null,
      "outputs": []
    },
    {
      "cell_type": "code",
      "source": [
        "#printing the list\n",
        "list"
      ],
      "metadata": {
        "colab": {
          "base_uri": "https://localhost:8080/"
        },
        "id": "H3Ad9pQ9AzIH",
        "outputId": "7a007282-606f-46e6-8ba5-951002e85f7a"
      },
      "execution_count": null,
      "outputs": [
        {
          "output_type": "execute_result",
          "data": {
            "text/plain": [
              "['first', 'second', 55, 'testing', None]"
            ]
          },
          "metadata": {},
          "execution_count": 10
        }
      ]
    },
    {
      "cell_type": "code",
      "source": [
        "#Indexing the list , you can use negative indexes to check from the last \n",
        "list[0] , list[1] , str(list[2])+list[3] , 'hi ' + list[0] , list[-2]"
      ],
      "metadata": {
        "colab": {
          "base_uri": "https://localhost:8080/"
        },
        "id": "OqafaSyhB5CO",
        "outputId": "1950312b-0702-45b1-a778-ba5d67253400"
      },
      "execution_count": null,
      "outputs": [
        {
          "output_type": "execute_result",
          "data": {
            "text/plain": [
              "('first', 'second', '55testing', 'hi first', 'testing')"
            ]
          },
          "metadata": {},
          "execution_count": 29
        }
      ]
    },
    {
      "cell_type": "code",
      "source": [
        "#looping in a list\n",
        "for elem in list:\n",
        "  print(elem)"
      ],
      "metadata": {
        "colab": {
          "base_uri": "https://localhost:8080/"
        },
        "id": "qbyGGv_3BXrX",
        "outputId": "2994d886-da6a-4a34-d045-ed2464f34b34"
      },
      "execution_count": null,
      "outputs": [
        {
          "output_type": "stream",
          "name": "stdout",
          "text": [
            "first\n",
            "second\n",
            "55\n",
            "testing\n",
            "None\n"
          ]
        }
      ]
    },
    {
      "cell_type": "code",
      "source": [
        "#nested lists\n",
        "parent = [['42',1337,'school'],['kafka','absurd',666],[69,'420','noice']]"
      ],
      "metadata": {
        "id": "Q-6LL4c6EMfo"
      },
      "execution_count": null,
      "outputs": []
    },
    {
      "cell_type": "code",
      "source": [
        "#handling nested list (like 2D arrays)\n",
        "#print nested list\n",
        "for child in parent:\n",
        "  for smaller in child:\n",
        "    print(smaller)"
      ],
      "metadata": {
        "colab": {
          "base_uri": "https://localhost:8080/"
        },
        "id": "D41Lq7c8EkYn",
        "outputId": "ba8de18c-97be-4d4e-fa54-ee1b5a12a6ec"
      },
      "execution_count": null,
      "outputs": [
        {
          "output_type": "stream",
          "name": "stdout",
          "text": [
            "42\n",
            "1337\n",
            "school\n",
            "kafka\n",
            "absurd\n",
            "666\n",
            "69\n",
            "420\n",
            "noice\n"
          ]
        }
      ]
    },
    {
      "cell_type": "code",
      "source": [
        "for child in parent:\n",
        "  print(child)"
      ],
      "metadata": {
        "colab": {
          "base_uri": "https://localhost:8080/"
        },
        "id": "5_dMLKNBFK8I",
        "outputId": "db61e915-afb1-4c4d-bdc3-7c4e3a0e96d6"
      },
      "execution_count": null,
      "outputs": [
        {
          "output_type": "stream",
          "name": "stdout",
          "text": [
            "['42', 1337, 'school']\n",
            "['kafka', 'absurd', 666]\n",
            "[69, '420', 'noice']\n"
          ]
        }
      ]
    },
    {
      "cell_type": "code",
      "source": [
        "#Slicing the list\n",
        "##get the first two elements\n",
        "new = parent[0:2]\n",
        "print(new)"
      ],
      "metadata": {
        "colab": {
          "base_uri": "https://localhost:8080/"
        },
        "id": "wgSqEWe3Gr8f",
        "outputId": "9314cde4-11ab-4828-859c-e224d9805e08"
      },
      "execution_count": null,
      "outputs": [
        {
          "output_type": "stream",
          "name": "stdout",
          "text": [
            "[['42', 1337, 'school'], ['kafka', 'absurd', 666]]\n"
          ]
        }
      ]
    },
    {
      "cell_type": "code",
      "source": [
        "#parent[0:3]\n",
        "parent[:3]"
      ],
      "metadata": {
        "colab": {
          "base_uri": "https://localhost:8080/"
        },
        "id": "0XVragHvHvgP",
        "outputId": "0261cd42-3ff6-41e4-ccf1-e7629327a7a1"
      },
      "execution_count": null,
      "outputs": [
        {
          "output_type": "execute_result",
          "data": {
            "text/plain": [
              "[['42', 1337, 'school'], ['kafka', 'absurd', 666], [69, '420', 'noice']]"
            ]
          },
          "metadata": {},
          "execution_count": 41
        }
      ]
    },
    {
      "cell_type": "code",
      "source": [
        "#get length \n",
        "len(new)"
      ],
      "metadata": {
        "colab": {
          "base_uri": "https://localhost:8080/"
        },
        "id": "BRwwze_lHNhY",
        "outputId": "bff5e94d-36ec-4d59-898c-4f9f16f008e8"
      },
      "execution_count": null,
      "outputs": [
        {
          "output_type": "execute_result",
          "data": {
            "text/plain": [
              "2"
            ]
          },
          "metadata": {},
          "execution_count": 36
        }
      ]
    },
    {
      "cell_type": "code",
      "source": [
        "#Assign new values to list (cries in c)\n",
        "\n",
        "list2 = ['string',55,5.3,'0000']\n",
        "list2[3] = 'changed'\n",
        "list2"
      ],
      "metadata": {
        "colab": {
          "base_uri": "https://localhost:8080/"
        },
        "id": "CxS-EMmRIRqH",
        "outputId": "3cd46892-3a6f-4ab5-ed21-be5dcd8361c4"
      },
      "execution_count": null,
      "outputs": [
        {
          "output_type": "execute_result",
          "data": {
            "text/plain": [
              "['string', 55, 5.3, 'changed']"
            ]
          },
          "metadata": {},
          "execution_count": 42
        }
      ]
    },
    {
      "cell_type": "code",
      "source": [
        "#List concat and replication\n",
        "one = ['1','2','3']\n",
        "two = ['4','5','6']\n",
        "one+two\n",
        "#['1', '2', '3', '4', '5', '6']\n",
        "three = one+two\n",
        "three"
      ],
      "metadata": {
        "colab": {
          "base_uri": "https://localhost:8080/"
        },
        "id": "3MMHpdIxJFpQ",
        "outputId": "094543ce-4317-452a-eace-d8598055f421"
      },
      "execution_count": null,
      "outputs": [
        {
          "output_type": "execute_result",
          "data": {
            "text/plain": [
              "['1', '2', '3', '4', '5', '6']"
            ]
          },
          "metadata": {},
          "execution_count": 52
        }
      ]
    },
    {
      "cell_type": "code",
      "source": [
        "#removing values with del statements\n",
        "del three[:2] \n",
        "three"
      ],
      "metadata": {
        "colab": {
          "base_uri": "https://localhost:8080/"
        },
        "id": "DIaHwiCYJfqA",
        "outputId": "af806736-a172-43a8-add7-9d46ad06e12e"
      },
      "execution_count": null,
      "outputs": [
        {
          "output_type": "execute_result",
          "data": {
            "text/plain": [
              "['3', '4', '5', '6']"
            ]
          },
          "metadata": {},
          "execution_count": 53
        }
      ]
    }
  ]
}